{
  "nbformat": 4,
  "nbformat_minor": 0,
  "metadata": {
    "colab": {
      "provenance": [],
      "authorship_tag": "ABX9TyPqysozdhtv6L1v11Zt4tps",
      "include_colab_link": true
    },
    "kernelspec": {
      "name": "python3",
      "display_name": "Python 3"
    },
    "language_info": {
      "name": "python"
    }
  },
  "cells": [
    {
      "cell_type": "markdown",
      "metadata": {
        "id": "view-in-github",
        "colab_type": "text"
      },
      "source": [
        "<a href=\"https://colab.research.google.com/github/kassy11/convai_jpersona/blob/feature%2Fcolab_file_download/convert.ipynb\" target=\"_parent\"><img src=\"https://colab.research.google.com/assets/colab-badge.svg\" alt=\"Open In Colab\"/></a>"
      ]
    },
    {
      "cell_type": "markdown",
      "source": [
        "## 準備\n",
        "事前に`DATA_PATH`に記載されたパスにJPersonaChatのデータをアップロードしてください。"
      ],
      "metadata": {
        "id": "MSDaTyiAfOhU"
      }
    },
    {
      "cell_type": "code",
      "source": [
        "import json\n",
        "import openpyxl\n",
        "import random\n",
        "from tqdm import tqdm\n",
        "from google.colab import files\n",
        "\n",
        "SHEET_NAME = {\"PERSONA_LIST\": \"ペルソナリスト\", \"DIALOG\": \"対話\"}\n",
        "SPEAKER_IDS = [\"A\", \"B\"]\n",
        "SPEAKER_B_GREETING = \"こんにちは。\"\n",
        "\n",
        "# See: https://github.com/huggingface/transfer-learning-conv-ai/blob/master/example_entry.py#L5\n",
        "# WARN: the evidence is not known.\n",
        "SAMPLE_SIZE = 18\n",
        "\n",
        "# See: https://simpletransformers.ai/docs/convAI-data-formats/#data-formats\n",
        "CONVERTED_KEYS = {\n",
        "    \"PERSONALITY\": \"personality\",\n",
        "    \"UTTERANCES\": \"utterances\",\n",
        "    \"CANDIDATES\": \"candidates\",\n",
        "    \"HISTORY\": \"history\",\n",
        "}\n",
        "\n",
        "DATA_PATH = \"./japanese_persona_chat.xlsx\"\n",
        "OUT_PATH = \"./converted.json\""
      ],
      "metadata": {
        "id": "DvjDSDAkebUb"
      },
      "execution_count": 1,
      "outputs": []
    },
    {
      "cell_type": "markdown",
      "source": [
        "## データ読み込み"
      ],
      "metadata": {
        "id": "AO-8wOdYfMBX"
      }
    },
    {
      "cell_type": "code",
      "source": [
        "def _get_persona_data(wb):\n",
        "    ws = wb[SHEET_NAME[\"PERSONA_LIST\"]]\n",
        "\n",
        "    persona_data = {}\n",
        "    for lines in ws:\n",
        "        if lines[0].value == \"No\":\n",
        "            continue\n",
        "\n",
        "        pid, persona_a, persona_b = [v.value for v in lines][1:4]\n",
        "        persona_data[pid] = {}\n",
        "        persona_data[pid][SPEAKER_IDS[0]] = persona_a.split(\"\\n\")\n",
        "        persona_data[pid][SPEAKER_IDS[1]] = persona_b.split(\"\\n\")\n",
        "\n",
        "    # persona_data {'persona id': {'A': ['aaa', 'bbb'], 'B': ['cccc', 'ddd']}}\n",
        "    return persona_data\n",
        "\n",
        "\n",
        "def _get_dialog_data(wb):\n",
        "    ws = wb[SHEET_NAME[\"DIALOG\"]]\n",
        "    dialog_data = {}\n",
        "    all_utterance = []\n",
        "\n",
        "    for lines in ws:\n",
        "        if lines[0].value == \"No\":\n",
        "            continue\n",
        "\n",
        "        pid, speaker_id, dialog = [v.value for v in lines][1:4]\n",
        "        if pid not in dialog_data:\n",
        "            dialog_data[pid] = {}\n",
        "        if speaker_id not in dialog_data[pid] and speaker_id in SPEAKER_IDS:\n",
        "            dialog_data[pid][speaker_id] = []\n",
        "\n",
        "        dialog_data[pid][speaker_id].append(dialog)\n",
        "        all_utterance.append(dialog)\n",
        "\n",
        "    all_utterance = list(set(all_utterance))\n",
        "\n",
        "    # dialog_data {'persona id': {'A': ['aaa', 'bbb'], 'B': ['cccc', 'ddd']}}\n",
        "    return dialog_data, all_utterance\n",
        "\n",
        "\n",
        "def get_data(data_path):\n",
        "    wb = openpyxl.load_workbook(data_path, data_only=True)\n",
        "    persona_data = _get_persona_data(wb)\n",
        "    dialog_data, all_utterance = _get_dialog_data(wb)\n",
        "    return persona_data, dialog_data, all_utterance"
      ],
      "metadata": {
        "id": "JLqImn0-eTRS"
      },
      "execution_count": 2,
      "outputs": []
    },
    {
      "cell_type": "markdown",
      "source": [
        "## データフォーマットの変換"
      ],
      "metadata": {
        "id": "DZueyQf4fRQz"
      }
    },
    {
      "cell_type": "code",
      "source": [
        "def _remove_element(target_list, element):\n",
        "    return list(filter(lambda x: x != element, target_list))\n",
        "\n",
        "\n",
        "def _get_incorrect_candidates(all_utterance, correct_utterance, sample_size):\n",
        "    if correct_utterance in all_utterance:\n",
        "        incorrect_utterance = _remove_element(all_utterance, correct_utterance)\n",
        "        assert len(incorrect_utterance) == len(all_utterance) - 1\n",
        "    else:\n",
        "        incorrect_utterance = all_utterance\n",
        "    incorrect_candidates = random.sample(incorrect_utterance, sample_size)\n",
        "    return incorrect_candidates\n",
        "\n",
        "\n",
        "def convert_data(persona_data, dialog_data, all_utterance):\n",
        "    converted_data = []\n",
        "    for pid, persona in tqdm(persona_data.items()):\n",
        "        for speaker_id in SPEAKER_IDS:  # ['A', 'B']\n",
        "            converted_dict = {}\n",
        "            converted_dict[CONVERTED_KEYS[\"PERSONALITY\"]] = []\n",
        "            converted_dict[CONVERTED_KEYS[\"UTTERANCES\"]] = []\n",
        "            converted_dict[CONVERTED_KEYS[\"PERSONALITY\"]] = persona[speaker_id]\n",
        "\n",
        "            speaker_dialogs = dialog_data[pid][speaker_id]\n",
        "            another_speaker_id = list(set(SPEAKER_IDS) - set([speaker_id]))[0]\n",
        "            another_speaker_dialogs = dialog_data[pid][another_speaker_id]\n",
        "\n",
        "            # If the conversation started with A, add greeting to B first element\n",
        "            if speaker_id == SPEAKER_IDS[0]:\n",
        "                another_speaker_dialogs = [SPEAKER_B_GREETING] + another_speaker_dialogs\n",
        "\n",
        "            previous_speaker_dialog = \"\"\n",
        "            previous_history = []\n",
        "            # WARN: If the length of dialogs of A and B are different, match the shorter one\n",
        "            for (speaker_dialog, another_speaker_dialog) in zip(\n",
        "                speaker_dialogs, another_speaker_dialogs\n",
        "            ):\n",
        "                incorrect_candidates = _get_incorrect_candidates(\n",
        "                    all_utterance, speaker_dialog, SAMPLE_SIZE\n",
        "                )\n",
        "                candidates = incorrect_candidates + [speaker_dialog]\n",
        "\n",
        "                if not previous_speaker_dialog:\n",
        "                    history = previous_history + [another_speaker_dialog]\n",
        "                else:\n",
        "                    history = previous_history + [\n",
        "                        previous_speaker_dialog,\n",
        "                        another_speaker_dialog,\n",
        "                    ]\n",
        "\n",
        "                utterance_data = {\n",
        "                    CONVERTED_KEYS[\"CANDIDATES\"]: candidates,\n",
        "                    CONVERTED_KEYS[\"HISTORY\"]: history,\n",
        "                }\n",
        "                converted_dict[CONVERTED_KEYS[\"UTTERANCES\"]].append(utterance_data)\n",
        "\n",
        "                previous_history = history\n",
        "                previous_speaker_dialog = speaker_dialog\n",
        "\n",
        "            converted_data.append(converted_dict)\n",
        "    return converted_data"
      ],
      "metadata": {
        "id": "tn5VlmVJepvF"
      },
      "execution_count": 3,
      "outputs": []
    },
    {
      "cell_type": "markdown",
      "source": [
        "## データ書き込み"
      ],
      "metadata": {
        "id": "kEDVpcH2fZsH"
      }
    },
    {
      "cell_type": "code",
      "source": [
        "persona_data, dialog_data, all_utterance = get_data(DATA_PATH)\n",
        "converted_data = convert_data(persona_data, dialog_data, all_utterance)\n",
        "with open(OUT_PATH, \"w\", encoding=\"utf-8\") as f:\n",
        "    json.dump(converted_data, f, indent=2, ensure_ascii=False)\n",
        "files.download(OUT_PATH)"
      ],
      "metadata": {
        "colab": {
          "base_uri": "https://localhost:8080/",
          "height": 35
        },
        "id": "_cn1gY8be4TI",
        "outputId": "dc5a659f-7c07-45ff-98e3-9db6b2b1e6e4"
      },
      "execution_count": 4,
      "outputs": [
        {
          "output_type": "stream",
          "name": "stderr",
          "text": [
            "100%|██████████| 5000/5000 [16:57<00:00,  4.92it/s]\n"
          ]
        },
        {
          "output_type": "display_data",
          "data": {
            "text/plain": [
              "<IPython.core.display.Javascript object>"
            ],
            "application/javascript": [
              "\n",
              "    async function download(id, filename, size) {\n",
              "      if (!google.colab.kernel.accessAllowed) {\n",
              "        return;\n",
              "      }\n",
              "      const div = document.createElement('div');\n",
              "      const label = document.createElement('label');\n",
              "      label.textContent = `Downloading \"${filename}\": `;\n",
              "      div.appendChild(label);\n",
              "      const progress = document.createElement('progress');\n",
              "      progress.max = size;\n",
              "      div.appendChild(progress);\n",
              "      document.body.appendChild(div);\n",
              "\n",
              "      const buffers = [];\n",
              "      let downloaded = 0;\n",
              "\n",
              "      const channel = await google.colab.kernel.comms.open(id);\n",
              "      // Send a message to notify the kernel that we're ready.\n",
              "      channel.send({})\n",
              "\n",
              "      for await (const message of channel.messages) {\n",
              "        // Send a message to notify the kernel that we're ready.\n",
              "        channel.send({})\n",
              "        if (message.buffers) {\n",
              "          for (const buffer of message.buffers) {\n",
              "            buffers.push(buffer);\n",
              "            downloaded += buffer.byteLength;\n",
              "            progress.value = downloaded;\n",
              "          }\n",
              "        }\n",
              "      }\n",
              "      const blob = new Blob(buffers, {type: 'application/binary'});\n",
              "      const a = document.createElement('a');\n",
              "      a.href = window.URL.createObjectURL(blob);\n",
              "      a.download = filename;\n",
              "      div.appendChild(a);\n",
              "      a.click();\n",
              "      div.remove();\n",
              "    }\n",
              "  "
            ]
          },
          "metadata": {}
        },
        {
          "output_type": "display_data",
          "data": {
            "text/plain": [
              "<IPython.core.display.Javascript object>"
            ],
            "application/javascript": [
              "download(\"download_07380b37-40f3-4613-881a-82ee718985b0\", \"converted.json\", 216844575)"
            ]
          },
          "metadata": {}
        }
      ]
    }
  ]
}